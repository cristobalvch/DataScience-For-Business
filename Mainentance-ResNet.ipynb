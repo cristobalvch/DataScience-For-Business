{
  "nbformat": 4,
  "nbformat_minor": 0,
  "metadata": {
    "colab": {
      "name": "Departamento de Mantenimiento y Manufacturación",
      "provenance": [],
      "collapsed_sections": [],
      "include_colab_link": true
    },
    "kernelspec": {
      "name": "python3",
      "display_name": "Python 3"
    },
    "accelerator": "GPU"
  },
  "cells": [
    {
      "cell_type": "markdown",
      "metadata": {
        "id": "view-in-github",
        "colab_type": "text"
      },
      "source": [
        "<a href=\"https://colab.research.google.com/github/cristobalvch/DataScience-For-Business/blob/main/Mainentance-ResNet.ipynb\" target=\"_parent\"><img src=\"https://colab.research.google.com/assets/colab-badge.svg\" alt=\"Open In Colab\"/></a>"
      ]
    },
    {
      "cell_type": "markdown",
      "metadata": {
        "id": "M27qF7CTrBqc"
      },
      "source": [
        "# TAREA #1: ENTENDER EL ENUNCIADO DEL PROBLEMA Y EL CASO PRÁCTICO"
      ]
    },
    {
      "cell_type": "markdown",
      "metadata": {
        "id": "Z2ZMlH-gtOxf"
      },
      "source": [
        "\n",
        "<table>\n",
        "  <tr><td>\n",
        "    <img src=\"https://drive.google.com/uc?id=1rcxnQuLqFyn8l9hQmdyp-yxSaXhxJPed\"\n",
        "         alt=\"Fashion MNIST sprite\"  width=\"1000\">\n",
        "  </td></tr>\n",
        "  <tr><td align=\"center\">\n",
        "    <b>Figure 1. Predecir Defectus utilizando Deep Learning \n",
        "  </td></tr>\n",
        "</table>\n"
      ]
    },
    {
      "cell_type": "markdown",
      "metadata": {
        "id": "6bLpY2prr3qt"
      },
      "source": [
        "![alt text](https://drive.google.com/uc?id=1WuUNREIQaEKFU9ttcNsP7710otdLZLWY)"
      ]
    },
    {
      "cell_type": "markdown",
      "metadata": {
        "id": "xGQZ816psWZv"
      },
      "source": [
        "![alt text](https://drive.google.com/uc?id=1DIibqHm6xTbegYkFn4kdXm8EjLv60RBs)"
      ]
    },
    {
      "cell_type": "markdown",
      "metadata": {
        "id": "RxRAp6a7Lso9"
      },
      "source": [
        "![alt text](https://drive.google.com/uc?id=1Z97UmIqEPeV2kwZzxPE0HR4JhqoNezKM)"
      ]
    },
    {
      "cell_type": "markdown",
      "metadata": {
        "id": "wCszOgccu7vv"
      },
      "source": [
        "![alt text](https://drive.google.com/uc?id=1EFKTEdPHsD6Qp8gL0K2E1IFQaOLYkOcu)"
      ]
    },
    {
      "cell_type": "markdown",
      "metadata": {
        "id": "U7foSaTWu7s4"
      },
      "source": [
        "![alt text](https://drive.google.com/uc?id=1CChZthmpPSfMVobMsGosn5t0jHByPc7u)"
      ]
    },
    {
      "cell_type": "markdown",
      "metadata": {
        "id": "zKmFmyaGunc7"
      },
      "source": [
        "# TAREA #2: IMPORTAR LIBRERÍAS Y DATASETS"
      ]
    },
    {
      "cell_type": "code",
      "metadata": {
        "id": "S0Cx3743urFY"
      },
      "source": [
        "import pandas as pd\n",
        "import numpy as np\n",
        "import seaborn as sns\n",
        "import matplotlib.pyplot as plt\n",
        "import zipfile\n",
        "import cv2\n",
        "from skimage import io\n",
        "import tensorflow as tf\n",
        "from tensorflow.python.keras import Sequential\n",
        "from tensorflow.keras import layers, optimizers\n",
        "from tensorflow.keras.applications import DenseNet121\n",
        "from tensorflow.keras.applications.resnet50 import ResNet50\n",
        "from tensorflow.keras.layers import *\n",
        "from tensorflow.keras.models import Model, load_model\n",
        "from tensorflow.keras.initializers import glorot_uniform\n",
        "from tensorflow.keras.utils import plot_model\n",
        "from tensorflow.keras.callbacks import ReduceLROnPlateau, EarlyStopping, ModelCheckpoint, LearningRateScheduler\n",
        "from IPython.display import display\n",
        "from tensorflow.keras import backend as K\n",
        "from sklearn.preprocessing import StandardScaler, normalize\n",
        "import os\n",
        "from google.colab import files \n",
        "%matplotlib inline"
      ],
      "execution_count": 2,
      "outputs": []
    },
    {
      "cell_type": "code",
      "metadata": {
        "id": "5P_ciLXawMZg",
        "colab": {
          "base_uri": "https://localhost:8080/"
        },
        "outputId": "c8274d47-8465-458d-acef-97bdb7d4fdae"
      },
      "source": [
        "# Deberás montar tu unidad usando los siguientes comandos:\n",
        "# Para obtener más información sobre el montaje, consulta en: https://stackoverflow.com/questions/46986398/import-data-into-google-colaboratory\n",
        "\n",
        "from google.colab import drive\n",
        "import os\n",
        "drive.mount('/content/drive',force_remount=True)"
      ],
      "execution_count": 3,
      "outputs": [
        {
          "output_type": "stream",
          "text": [
            "Mounted at /content/drive\n"
          ],
          "name": "stdout"
        }
      ]
    },
    {
      "cell_type": "markdown",
      "metadata": {
        "id": "3A2fH0Pov5lQ"
      },
      "source": [
        "![alt text](https://drive.google.com/uc?id=1FwYiclZhPxv0OtPPeIU50Ped35h85vYG)"
      ]
    },
    {
      "cell_type": "markdown",
      "metadata": {
        "id": "x3kcVUXiwzUk"
      },
      "source": [
        "![alt text](https://drive.google.com/uc?id=12WX3l8g2aeKggG8z1_7Rg0UFzwqcgUo3)"
      ]
    },
    {
      "cell_type": "code",
      "metadata": {
        "id": "tjIiJdM4u1IE"
      },
      "source": [
        "# Datos que contienen imágenes con defectos con máscara de segmentación \n",
        "defect_class_mask_df = pd.read_csv('/content/drive/MyDrive/Colab Notebooks/6. Maintenance Department/train.csv')\n"
      ],
      "execution_count": 4,
      "outputs": []
    },
    {
      "cell_type": "code",
      "metadata": {
        "id": "DbC_D1Gnw5_y"
      },
      "source": [
        "# Datos que contienen imágenes con y sin defectos \n",
        "all_images_df = pd.read_csv('/content/drive/MyDrive/Colab Notebooks/6. Maintenance Department/defect_and_no_defect.csv')\n"
      ],
      "execution_count": 5,
      "outputs": []
    },
    {
      "cell_type": "code",
      "metadata": {
        "id": "q4_wPDKCu5Uc",
        "colab": {
          "base_uri": "https://localhost:8080/",
          "height": 197
        },
        "outputId": "7223efc4-3774-4987-c8d3-783b7c025ed9"
      },
      "source": [
        "defect_class_mask_df.head()"
      ],
      "execution_count": 6,
      "outputs": [
        {
          "output_type": "execute_result",
          "data": {
            "text/html": [
              "<div>\n",
              "<style scoped>\n",
              "    .dataframe tbody tr th:only-of-type {\n",
              "        vertical-align: middle;\n",
              "    }\n",
              "\n",
              "    .dataframe tbody tr th {\n",
              "        vertical-align: top;\n",
              "    }\n",
              "\n",
              "    .dataframe thead th {\n",
              "        text-align: right;\n",
              "    }\n",
              "</style>\n",
              "<table border=\"1\" class=\"dataframe\">\n",
              "  <thead>\n",
              "    <tr style=\"text-align: right;\">\n",
              "      <th></th>\n",
              "      <th>ImageId</th>\n",
              "      <th>ClassId</th>\n",
              "      <th>EncodedPixels</th>\n",
              "    </tr>\n",
              "  </thead>\n",
              "  <tbody>\n",
              "    <tr>\n",
              "      <th>0</th>\n",
              "      <td>d2291de5c.jpg</td>\n",
              "      <td>1</td>\n",
              "      <td>147963 3 148213 9 148461 18 148711 24 148965 2...</td>\n",
              "    </tr>\n",
              "    <tr>\n",
              "      <th>1</th>\n",
              "      <td>78416c3d0.jpg</td>\n",
              "      <td>3</td>\n",
              "      <td>54365 3 54621 7 54877 10 55133 12 55388 14 556...</td>\n",
              "    </tr>\n",
              "    <tr>\n",
              "      <th>2</th>\n",
              "      <td>2283f2183.jpg</td>\n",
              "      <td>3</td>\n",
              "      <td>201217 43 201473 128 201729 213 201985 5086 20...</td>\n",
              "    </tr>\n",
              "    <tr>\n",
              "      <th>3</th>\n",
              "      <td>f0dc068a8.jpg</td>\n",
              "      <td>3</td>\n",
              "      <td>159207 26 159412 77 159617 128 159822 179 1600...</td>\n",
              "    </tr>\n",
              "    <tr>\n",
              "      <th>4</th>\n",
              "      <td>00d639396.jpg</td>\n",
              "      <td>3</td>\n",
              "      <td>229356 17 229595 34 229850 36 230105 37 230360...</td>\n",
              "    </tr>\n",
              "  </tbody>\n",
              "</table>\n",
              "</div>"
            ],
            "text/plain": [
              "         ImageId  ClassId                                      EncodedPixels\n",
              "0  d2291de5c.jpg        1  147963 3 148213 9 148461 18 148711 24 148965 2...\n",
              "1  78416c3d0.jpg        3  54365 3 54621 7 54877 10 55133 12 55388 14 556...\n",
              "2  2283f2183.jpg        3  201217 43 201473 128 201729 213 201985 5086 20...\n",
              "3  f0dc068a8.jpg        3  159207 26 159412 77 159617 128 159822 179 1600...\n",
              "4  00d639396.jpg        3  229356 17 229595 34 229850 36 230105 37 230360..."
            ]
          },
          "metadata": {
            "tags": []
          },
          "execution_count": 6
        }
      ]
    },
    {
      "cell_type": "code",
      "metadata": {
        "id": "OiJTmyEBua4n",
        "colab": {
          "base_uri": "https://localhost:8080/",
          "height": 197
        },
        "outputId": "47ccf8d3-34f2-439f-a6ec-c91b159ba3da"
      },
      "source": [
        "all_images_df.head()"
      ],
      "execution_count": 7,
      "outputs": [
        {
          "output_type": "execute_result",
          "data": {
            "text/html": [
              "<div>\n",
              "<style scoped>\n",
              "    .dataframe tbody tr th:only-of-type {\n",
              "        vertical-align: middle;\n",
              "    }\n",
              "\n",
              "    .dataframe tbody tr th {\n",
              "        vertical-align: top;\n",
              "    }\n",
              "\n",
              "    .dataframe thead th {\n",
              "        text-align: right;\n",
              "    }\n",
              "</style>\n",
              "<table border=\"1\" class=\"dataframe\">\n",
              "  <thead>\n",
              "    <tr style=\"text-align: right;\">\n",
              "      <th></th>\n",
              "      <th>ImageID</th>\n",
              "      <th>label</th>\n",
              "    </tr>\n",
              "  </thead>\n",
              "  <tbody>\n",
              "    <tr>\n",
              "      <th>0</th>\n",
              "      <td>0002cc93b.jpg</td>\n",
              "      <td>1</td>\n",
              "    </tr>\n",
              "    <tr>\n",
              "      <th>1</th>\n",
              "      <td>0007a71bf.jpg</td>\n",
              "      <td>1</td>\n",
              "    </tr>\n",
              "    <tr>\n",
              "      <th>2</th>\n",
              "      <td>000a4bcdd.jpg</td>\n",
              "      <td>1</td>\n",
              "    </tr>\n",
              "    <tr>\n",
              "      <th>3</th>\n",
              "      <td>000f6bf48.jpg</td>\n",
              "      <td>1</td>\n",
              "    </tr>\n",
              "    <tr>\n",
              "      <th>4</th>\n",
              "      <td>0014fce06.jpg</td>\n",
              "      <td>1</td>\n",
              "    </tr>\n",
              "  </tbody>\n",
              "</table>\n",
              "</div>"
            ],
            "text/plain": [
              "         ImageID  label\n",
              "0  0002cc93b.jpg      1\n",
              "1  0007a71bf.jpg      1\n",
              "2  000a4bcdd.jpg      1\n",
              "3  000f6bf48.jpg      1\n",
              "4  0014fce06.jpg      1"
            ]
          },
          "metadata": {
            "tags": []
          },
          "execution_count": 7
        }
      ]
    },
    {
      "cell_type": "markdown",
      "metadata": {
        "id": "LlszUhNNyrl_"
      },
      "source": [
        "# TAREA #3: VISUALIZAR Y EXPLORAR EL DATASET"
      ]
    },
    {
      "cell_type": "code",
      "metadata": {
        "id": "ICj3NLbqqmve"
      },
      "source": [
        "defect_class_mask_df['mask'] = defect_class_mask_df['ClassId'].map(lambda x: 1)"
      ],
      "execution_count": 8,
      "outputs": []
    },
    {
      "cell_type": "code",
      "metadata": {
        "id": "0ZomzExDySgb",
        "colab": {
          "base_uri": "https://localhost:8080/",
          "height": 197
        },
        "outputId": "983a4e88-a939-41e6-cb14-07aae1b07340"
      },
      "source": [
        "defect_class_mask_df.head()"
      ],
      "execution_count": 9,
      "outputs": [
        {
          "output_type": "execute_result",
          "data": {
            "text/html": [
              "<div>\n",
              "<style scoped>\n",
              "    .dataframe tbody tr th:only-of-type {\n",
              "        vertical-align: middle;\n",
              "    }\n",
              "\n",
              "    .dataframe tbody tr th {\n",
              "        vertical-align: top;\n",
              "    }\n",
              "\n",
              "    .dataframe thead th {\n",
              "        text-align: right;\n",
              "    }\n",
              "</style>\n",
              "<table border=\"1\" class=\"dataframe\">\n",
              "  <thead>\n",
              "    <tr style=\"text-align: right;\">\n",
              "      <th></th>\n",
              "      <th>ImageId</th>\n",
              "      <th>ClassId</th>\n",
              "      <th>EncodedPixels</th>\n",
              "      <th>mask</th>\n",
              "    </tr>\n",
              "  </thead>\n",
              "  <tbody>\n",
              "    <tr>\n",
              "      <th>0</th>\n",
              "      <td>d2291de5c.jpg</td>\n",
              "      <td>1</td>\n",
              "      <td>147963 3 148213 9 148461 18 148711 24 148965 2...</td>\n",
              "      <td>1</td>\n",
              "    </tr>\n",
              "    <tr>\n",
              "      <th>1</th>\n",
              "      <td>78416c3d0.jpg</td>\n",
              "      <td>3</td>\n",
              "      <td>54365 3 54621 7 54877 10 55133 12 55388 14 556...</td>\n",
              "      <td>1</td>\n",
              "    </tr>\n",
              "    <tr>\n",
              "      <th>2</th>\n",
              "      <td>2283f2183.jpg</td>\n",
              "      <td>3</td>\n",
              "      <td>201217 43 201473 128 201729 213 201985 5086 20...</td>\n",
              "      <td>1</td>\n",
              "    </tr>\n",
              "    <tr>\n",
              "      <th>3</th>\n",
              "      <td>f0dc068a8.jpg</td>\n",
              "      <td>3</td>\n",
              "      <td>159207 26 159412 77 159617 128 159822 179 1600...</td>\n",
              "      <td>1</td>\n",
              "    </tr>\n",
              "    <tr>\n",
              "      <th>4</th>\n",
              "      <td>00d639396.jpg</td>\n",
              "      <td>3</td>\n",
              "      <td>229356 17 229595 34 229850 36 230105 37 230360...</td>\n",
              "      <td>1</td>\n",
              "    </tr>\n",
              "  </tbody>\n",
              "</table>\n",
              "</div>"
            ],
            "text/plain": [
              "         ImageId  ...  mask\n",
              "0  d2291de5c.jpg  ...     1\n",
              "1  78416c3d0.jpg  ...     1\n",
              "2  2283f2183.jpg  ...     1\n",
              "3  f0dc068a8.jpg  ...     1\n",
              "4  00d639396.jpg  ...     1\n",
              "\n",
              "[5 rows x 4 columns]"
            ]
          },
          "metadata": {
            "tags": []
          },
          "execution_count": 9
        }
      ]
    },
    {
      "cell_type": "code",
      "metadata": {
        "id": "sddcLXnFzMAy",
        "colab": {
          "base_uri": "https://localhost:8080/",
          "height": 350
        },
        "outputId": "dbe70498-2244-414e-8e48-13f478036636"
      },
      "source": [
        "sns.countplot(defect_class_mask_df['ClassId'])\n",
        "plt.ylabel('Number of images per defect')\n",
        "plt.xlabel('ClassID')\n",
        "plt.title('Number of images per class')\n",
        "plt.show()"
      ],
      "execution_count": 10,
      "outputs": [
        {
          "output_type": "stream",
          "text": [
            "/usr/local/lib/python3.6/dist-packages/seaborn/_decorators.py:43: FutureWarning: Pass the following variable as a keyword arg: x. From version 0.12, the only valid positional argument will be `data`, and passing other arguments without an explicit keyword will result in an error or misinterpretation.\n",
            "  FutureWarning\n"
          ],
          "name": "stderr"
        },
        {
          "output_type": "display_data",
          "data": {
            "image/png": "[encoded data removed]",
            "text/plain": [
              "<Figure size 432x288 with 1 Axes>"
            ]
          },
          "metadata": {
            "tags": [],
            "needs_background": "light"
          }
        }
      ]
    },
    {
      "cell_type": "code",
      "metadata": {
        "id": "za48tcXcx1FS"
      },
      "source": [
        "# Algunas imágenes están clasificadas con más de un defecto, exploremos esto con más detalle\n",
        "# tenemos una imagen con 3 tipos de defectos\n",
        "# tenemos 272 imágenes con 2 tipos de defectos\n",
        "# tenemos 5201 imágenes con 1 tipo de defecto\n",
        "defect_type = defect_class_mask_df.groupby(['ImageId'])['mask'].sum().sort_values(ascending=False)"
      ],
      "execution_count": 11,
      "outputs": []
    },
    {
      "cell_type": "code",
      "metadata": {
        "id": "R4g-1HFErAUW",
        "colab": {
          "base_uri": "https://localhost:8080/"
        },
        "outputId": "8ee3b574-d77a-4dae-df50-7972295ac36d"
      },
      "source": [
        "defect_type.head(10)"
      ],
      "execution_count": 12,
      "outputs": [
        {
          "output_type": "execute_result",
          "data": {
            "text/plain": [
              "ImageId\n",
              "ef24da2ba.jpg    3\n",
              "4edc8b817.jpg    2\n",
              "8bc5aeca3.jpg    2\n",
              "8d2e8b456.jpg    2\n",
              "adc257b59.jpg    2\n",
              "6e6b79dc4.jpg    2\n",
              "4e2c9230d.jpg    2\n",
              "edfe6ee4c.jpg    2\n",
              "c7b41dbf4.jpg    2\n",
              "101648543.jpg    2\n",
              "Name: mask, dtype: int64"
            ]
          },
          "metadata": {
            "tags": []
          },
          "execution_count": 12
        }
      ]
    },
    {
      "cell_type": "code",
      "metadata": {
        "id": "qlKDGvA7rVVL",
        "colab": {
          "base_uri": "https://localhost:8080/"
        },
        "outputId": "96423759-5d70-4bc4-dce4-7d49c6a8828b"
      },
      "source": [
        "defect_type.value_counts()"
      ],
      "execution_count": 13,
      "outputs": [
        {
          "output_type": "execute_result",
          "data": {
            "text/plain": [
              "1    5201\n",
              "2     272\n",
              "3       1\n",
              "Name: mask, dtype: int64"
            ]
          },
          "metadata": {
            "tags": []
          },
          "execution_count": 13
        }
      ]
    },
    {
      "cell_type": "code",
      "metadata": {
        "id": "Yhm-Y9Tlx1H_",
        "colab": {
          "base_uri": "https://localhost:8080/",
          "height": 294
        },
        "outputId": "6d33aa45-cd22-486a-b2ad-1d43308e9424"
      },
      "source": [
        "sns.barplot(x = defect_type.value_counts().index, y = defect_type.value_counts() )\n",
        "plt.xlabel('ClassID')\n",
        "plt.title('Number of defects in image')\n",
        "plt.show()"
      ],
      "execution_count": 14,
      "outputs": [
        {
          "output_type": "display_data",
          "data": {
            "image/png": "[encoded data removed]",
            "text/plain": [
              "<Figure size 432x288 with 1 Axes>"
            ]
          },
          "metadata": {
            "tags": [],
            "needs_background": "light"
          }
        }
      ]
    },
    {
      "cell_type": "code",
      "metadata": {
        "id": "W0QetIIS0ekU",
        "colab": {
          "base_uri": "https://localhost:8080/"
        },
        "outputId": "6f193830-98ba-4946-c1f7-09c865f083fa"
      },
      "source": [
        "print(f\"Dimension de Defet Class Mask Df: {defect_class_mask_df.shape}\")\n",
        "print(f\"Dimension de All Images Df: {all_images_df.shape}\")"
      ],
      "execution_count": 15,
      "outputs": [
        {
          "output_type": "stream",
          "text": [
            "Dimension de Defet Class Mask Df: (5748, 4)\n",
            "Dimension de All Images Df: (12997, 2)\n"
          ],
          "name": "stdout"
        }
      ]
    },
    {
      "cell_type": "code",
      "metadata": {
        "id": "ZtK2Dozi0epR",
        "colab": {
          "base_uri": "https://localhost:8080/"
        },
        "outputId": "30976007-0789-44bb-94c4-521e4956d931"
      },
      "source": [
        "# Contemos imágenes con y sin defectos\n",
        "all_images_df.label.value_counts()"
      ],
      "execution_count": 16,
      "outputs": [
        {
          "output_type": "execute_result",
          "data": {
            "text/plain": [
              "1    7095\n",
              "0    5902\n",
              "Name: label, dtype: int64"
            ]
          },
          "metadata": {
            "tags": []
          },
          "execution_count": 16
        }
      ]
    },
    {
      "cell_type": "code",
      "metadata": {
        "id": "Wug5WIimucRM",
        "colab": {
          "base_uri": "https://localhost:8080/",
          "height": 294
        },
        "outputId": "e391b42e-62d7-43c7-ed1d-66c905114b2a"
      },
      "source": [
        "sns.barplot(x = all_images_df.label.value_counts().index, y = all_images_df.label.value_counts() )\n",
        "plt.ylabel('Number of images ')\n",
        "plt.xlabel('0 - Non-defect             1- Defect')\n",
        "plt.title('Defect and non-defect images')\n",
        "plt.show()"
      ],
      "execution_count": 17,
      "outputs": [
        {
          "output_type": "display_data",
          "data": {
            "image/png": "[encoded data removed]",
            "text/plain": [
              "<Figure size 432x288 with 1 Axes>"
            ]
          },
          "metadata": {
            "tags": [],
            "needs_background": "light"
          }
        }
      ]
    },
    {
      "cell_type": "code",
      "metadata": {
        "id": "Tpb9SQ-W0tfu",
        "colab": {
          "base_uri": "https://localhost:8080/",
          "height": 316
        },
        "outputId": "c0ca8467-32fd-4369-e8dc-22cca342b3fd"
      },
      "source": [
        "# Visualizar imágenes con defectos junto con sus etiquetas correspondientes\n",
        "# Las imágenes son de 256 x 1600\n",
        "from google.colab.patches import cv2_imshow\n",
        "train_dir = '/content/drive/MyDrive/Colab Notebooks/6. Maintenance Department/train_images'\n",
        "\n",
        "for i in range(5):\n",
        "  # Especificar el path de las imágenes a partir de su ID de imagen\n",
        "  img = io.imread(os.path.join(train_dir, defect_class_mask_df.ImageId[i]))\n",
        "  plt.figure()\n",
        "  plt.title(defect_class_mask_df.ClassId[i])\n",
        "  plt.imshow(img)"
      ],
      "execution_count": null,
      "outputs": [
        {
          "output_type": "display_data",
          "data": {
            "image/png": "[encoded data removed]",
            "text/plain": [
              "<Figure size 432x288 with 1 Axes>"
            ]
          },
          "metadata": {
            "tags": [],
            "needs_background": "light"
          }
        },
        {
          "output_type": "display_data",
          "data": {
            "image/png": "[encoded data removed]",
            "text/plain": [
              "<Figure size 432x288 with 1 Axes>"
            ]
          },
          "metadata": {
            "tags": [],
            "needs_background": "light"
          }
        },
        {
          "output_type": "display_data",
          "data": {
            "image/png": "[encoded data removed]",
            "text/plain": [
              "<Figure size 432x288 with 1 Axes>"
            ]
          },
          "metadata": {
            "tags": [],
            "needs_background": "light"
          }
        }
      ]
    },
    {
      "cell_type": "code",
      "metadata": {
        "id": "SQ7GMxpy6fgd"
      },
      "source": [
        "# El archivo de Utilities contiene el código para rle2mask, mask2rle, función de pérdida personalizada y generador de datos personalizados\n",
        "# dado que los datos proporcionados para la segmentación están en formato RLE (run length encoded), usaremos la siguiente función para convertir el RLE a máscara.\n",
        "# podemos convertir la máscara nuevamente a RLE para evaluar el rendimiento del modelo (accuracy).\n",
        "# El código fuente para estas funciones proviene de: https://www.kaggle.com/paulorzp/rle-functions-run-lenght-encode-decode\n",
        "\n",
        "%cd /content/drive/MyDrive/Colab Notebooks/6. Maintenance Department\n",
        "from utilities import rle2mask , mask2rle\n",
        "\n",
        "train_dir = '/content/drive/MyDrive/Colab Notebooks/6. Maintenance Department/train_images'"
      ],
      "execution_count": null,
      "outputs": []
    },
    {
      "cell_type": "code",
      "metadata": {
        "id": "Px2F3RkW8lP-"
      },
      "source": [
        "# Intentemos usar rle2mask en un imagen de prueba\n",
        "for i in range(0,5):\n",
        "  image_index = i\n",
        "  mask = rle2mask(defect_class_mask_df.EncodedPixels[image_index], img.shape[0], img.shape[1])\n",
        "  plt.figure()\n",
        "  plt.imshow(mask)"
      ],
      "execution_count": null,
      "outputs": []
    },
    {
      "cell_type": "code",
      "metadata": {
        "id": "ZDZhajOg6flc"
      },
      "source": [
        "for i in range(5):\n",
        "\n",
        "  # Read the images using opencv and converting to rgb format\n",
        "  img = io.imread(os.path.join(train_dir, defect_class_mask_df.ImageId[i]))\n",
        "  img = cv2.cvtColor(img, cv2.COLOR_BGR2RGB)\n",
        "\n",
        "  # Get the mask for the image from rle\n",
        "  mask = rle2mask(defect_class_mask_df.EncodedPixels[i], img.shape[0], img.shape[1])\n",
        "  \n",
        "  # Let's color the pixels with values = 1 \n",
        "  #mask = 1,1 1th 1: failure in image, 2th 1: Color Channel] \n",
        "  img[mask == 1,0] = 255\n",
        "  plt.figure()\n",
        "  plt.imshow(img)\n",
        "  plt.title(defect_class_mask_df.ClassId[i])"
      ],
      "execution_count": null,
      "outputs": []
    },
    {
      "cell_type": "markdown",
      "metadata": {
        "id": "a6SI58F7ySeh"
      },
      "source": [
        "# TAREA #4: ENTENDER LA TEORÍA E INTUICIÓN DETRÁS DE LAS REDES NEURONALES DE CONVOLUCIÓN, RESNETS Y APRENDIZAJE POR TRANSFERENCIA"
      ]
    },
    {
      "cell_type": "markdown",
      "metadata": {
        "id": "CijMDQ9RsWpb"
      },
      "source": [
        "![alt text](https://drive.google.com/uc?id=1VfMNSEEIjmswlO2YCS2nuTvmqxz2-BHV)"
      ]
    },
    {
      "cell_type": "markdown",
      "metadata": {
        "id": "BhmMxX-LtXkx"
      },
      "source": [
        "![alt text](https://drive.google.com/uc?id=1k4nFAj3K7qLT0OvpINmiapSRa-IRaxaH)"
      ]
    },
    {
      "cell_type": "markdown",
      "metadata": {
        "id": "qLs_UNX7t5fz"
      },
      "source": [
        "![alt text](https://drive.google.com/uc?id=1kB1ZJNNahizSNS9N2AdiOGgIKCpDOB7P)"
      ]
    },
    {
      "cell_type": "markdown",
      "metadata": {
        "id": "I6sP5t2vt5dc"
      },
      "source": [
        "![alt text](https://drive.google.com/uc?id=1lG1qSzWpP9kCM1t9ctX1TKHgdferBvCU)"
      ]
    },
    {
      "cell_type": "markdown",
      "metadata": {
        "id": "7QbYOy9Xt5aa"
      },
      "source": [
        "![alt text](https://drive.google.com/uc?id=17ijGa9o9qIZp_64-EbmDCpHxoc_Sgr4P)"
      ]
    },
    {
      "cell_type": "markdown",
      "metadata": {
        "id": "QRSLmofOqJ2X"
      },
      "source": [
        "# TAREA #5: CONSTRUIR Y ENTRENAR UN MODELO DE DEEP LEARNING PARA DETECTAR PRESENCIA O AUSENCIA DE DEFECTO EN UNA IMAGEN"
      ]
    },
    {
      "cell_type": "code",
      "metadata": {
        "id": "Mw5WRWplbe65"
      },
      "source": [
        "# Dividir el dataset (defective and non defective)  en entrenamiento y testing\n",
        "from sklearn.model_selection import train_test_split\n",
        "train, test = train_test_split(all_images_df, test_size=0.15,random_state=15)"
      ],
      "execution_count": null,
      "outputs": []
    },
    {
      "cell_type": "code",
      "metadata": {
        "id": "Jy6vCw-GGZrP"
      },
      "source": [
        "print(f\"Dimension de Train Df: {train.shape}\")\n",
        "print(f\"Dimension de Test Df: {test.shape}\")"
      ],
      "execution_count": null,
      "outputs": []
    },
    {
      "cell_type": "code",
      "metadata": {
        "id": "o2JD_rBGGZmg"
      },
      "source": [
        "# Crear un generador de imágenes para el conjunto de datos de entrenamiento y validación\n",
        "# Dividiremos los datos en entrenamiento, validación y testing.\n",
        "# Training = 9390 \n",
        "# validation = 1657 \n",
        "# testing = 1950 \n",
        "\n",
        "from keras_preprocessing.image import ImageDataGenerator\n",
        "\n",
        "# Crear un generador de datos que escale los datos de 0 a 1 y hacer una división de validación de 0,15\n",
        "datagen = ImageDataGenerator(rescale=1./255., validation_split = 0.15)\n",
        "\n",
        "train_generator = datagen.flow_from_dataframe(\n",
        "dataframe = train,\n",
        "directory = train_dir,\n",
        "x_col = \"ImageID\",\n",
        "y_col = \"label\",\n",
        "subset = \"training\",\n",
        "batch_size = 16,\n",
        "shuffle = True,\n",
        "class_mode = \"other\",\n",
        "target_size = (256, 256))\n",
        "\n",
        "\n",
        "valid_generator = datagen.flow_from_dataframe(\n",
        "dataframe = train,\n",
        "directory = train_dir,\n",
        "x_col = \"ImageID\",\n",
        "y_col = \"label\",\n",
        "subset = \"validation\",\n",
        "batch_size = 16,\n",
        "shuffle = True,\n",
        "class_mode = \"other\",\n",
        "target_size = (256, 256))"
      ],
      "execution_count": null,
      "outputs": []
    },
    {
      "cell_type": "code",
      "metadata": {
        "id": "nHpRFqN3HYZ8"
      },
      "source": [
        " # Crear un generador de datos para imágenes de test\n",
        "test_datagen = ImageDataGenerator(rescale=1./255.)\n",
        "\n",
        "test_generator = test_datagen.flow_from_dataframe(\n",
        "dataframe = test,\n",
        "directory = train_dir,\n",
        "x_col = \"ImageID\",\n",
        "y_col = None,\n",
        "batch_size = 16,\n",
        "shuffle = False,\n",
        "class_mode = None,\n",
        "target_size = (256, 256))"
      ],
      "execution_count": null,
      "outputs": []
    },
    {
      "cell_type": "code",
      "metadata": {
        "id": "8zq7zMBexYsV"
      },
      "source": [
        "basemodel = ResNet50(weights = 'imagenet', include_top = False, input_tensor = Input(shape=(256,256,3)))"
      ],
      "execution_count": null,
      "outputs": []
    },
    {
      "cell_type": "code",
      "metadata": {
        "id": "dBVhEydjxYkb"
      },
      "source": [
        "basemodel.summary()"
      ],
      "execution_count": null,
      "outputs": []
    },
    {
      "cell_type": "code",
      "metadata": {
        "id": "IAXdldnsxYah"
      },
      "source": [
        "# Congelar los pesos del modelo\n",
        "for layer in basemodel.layers:\n",
        "  layers.trainable = False"
      ],
      "execution_count": null,
      "outputs": []
    },
    {
      "cell_type": "code",
      "metadata": {
        "id": "jMB7E5Tkxetp"
      },
      "source": [
        "headmodel = basemodel.output\n",
        "headmodel = AveragePooling2D(pool_size = (4,4))(headmodel)\n",
        "headmodel = Flatten(name= 'flatten')(headmodel)\n",
        "headmodel = Dense(256, activation = \"relu\")(headmodel)\n",
        "headmodel = Dropout(0.3)(headmodel)\n",
        "headmodel = Dense(1, activation = 'sigmoid')(headmodel)\n",
        "\n",
        "model = Model(inputs = basemodel.input, outputs = headmodel)"
      ],
      "execution_count": null,
      "outputs": []
    },
    {
      "cell_type": "code",
      "metadata": {
        "id": "tXcaYKyvxepG"
      },
      "source": [
        "model.compile(loss = 'binary_crossentropy', optimizer='Nadam', metrics= [\"accuracy\"])"
      ],
      "execution_count": null,
      "outputs": []
    },
    {
      "cell_type": "code",
      "metadata": {
        "id": "NtIYCa5CxiCf"
      },
      "source": [
        "# Usar la parada temprana para parar el entrenamiento si la pérdida en validación no baja después de un cierto número de epochs (paciencia)\n",
        "earlystopping = EarlyStopping(monitor='val_loss', mode='min', verbose=1, patience=10)\n",
        "\n",
        "# Guardamos el modelo con menor error de validación\n",
        "checkpointer = ModelCheckpoint(filepath=\"resnet-weights.hdf5\", verbose=1, save_best_only=True)"
      ],
      "execution_count": null,
      "outputs": []
    },
    {
      "cell_type": "code",
      "metadata": {
        "id": "aTmjUR8GxiBI",
        "colab": {
          "base_uri": "https://localhost:8080/"
        },
        "outputId": "48915563-2547-42be-bea7-c36eaf1b9ce8"
      },
      "source": [
        "# (CUIDADO ESTO TARDA MUCHO TIEMPO (~90 mins)!)\n",
        "history = model.fit_generator(train_generator, steps_per_epoch= train_generator.n // 16, epochs = 20, validation_data= valid_generator, validation_steps= valid_generator.n // 16, callbacks=[checkpointer, earlystopping])"
      ],
      "execution_count": null,
      "outputs": [
        {
          "output_type": "stream",
          "text": [
            "WARNING:tensorflow:From <ipython-input-52-c40fce224bc2>:2: Model.fit_generator (from tensorflow.python.keras.engine.training) is deprecated and will be removed in a future version.\n",
            "Instructions for updating:\n",
            "Please use Model.fit, which supports generators.\n",
            "Epoch 1/40\n",
            " 69/586 [==>...........................] - ETA: 54:28 - loss: 1.1236 - accuracy: 0.6216"
          ],
          "name": "stdout"
        }
      ]
    },
    {
      "cell_type": "code",
      "metadata": {
        "id": "C2p7vb4Cxh8g"
      },
      "source": [
        "# Guardamos la arquitectura del modelo entrenado para el futuro\n",
        "\n",
        "model_json = model.to_json()\n",
        "with open(\"resnet-classifier-model.json\",\"w\") as json_file:\n",
        "  json_file.write(model_json)"
      ],
      "execution_count": null,
      "outputs": []
    },
    {
      "cell_type": "markdown",
      "metadata": {
        "id": "Y95MPj3m5Tr1"
      },
      "source": [
        "# TAREA #6: EVALUAR LA EFICACIA DEL MODELO"
      ]
    },
    {
      "cell_type": "code",
      "metadata": {
        "id": "A_yya7-p5YsJ"
      },
      "source": [
        "with open('/content/drive/My Drive/Curso de Data Science para Empresas/6. Maintenance Department/resnet-classifier-model.json', 'r') as json_file:\n",
        "    json_savedModel= json_file.read()\n",
        "# Cargamos el modelo \n",
        "model = tf.keras.models.model_from_json(json_savedModel)\n",
        "model.load_weights('/content/drive/My Drive/Curso de Data Science para Empresas/6. Maintenance Department/weights.hdf5')\n",
        "model.compile(loss = 'binary_crossentropy', optimizer='Nadam', metrics= [\"accuracy\"])"
      ],
      "execution_count": null,
      "outputs": []
    },
    {
      "cell_type": "code",
      "metadata": {
        "id": "p-OlLg_a5YoH"
      },
      "source": [
        "# Hacemos la predicción (CUIDADO TARDA MUCHO TIEMPO (~10 mins)!)\n",
        "\n",
        "from keras_preprocessing.image import ImageDataGenerator\n",
        "\n",
        "test_predict = model.predict(test_generator, steps = test_generator.n // 16, verbose =1)\n"
      ],
      "execution_count": null,
      "outputs": []
    },
    {
      "cell_type": "code",
      "metadata": {
        "id": "kA8Fi1Dy9qfZ"
      },
      "source": [
        "test_predict"
      ],
      "execution_count": null,
      "outputs": []
    },
    {
      "cell_type": "code",
      "metadata": {
        "id": "cWNMOYCX5fGI"
      },
      "source": [
        "# Dado que usamos la función de activación sigmoidea al final, nuestro resultado contiene valores continuos de 0 a 1.\n",
        "# La red se usa inicialmente para clasificar si la imagen tiene defecto o no\n",
        "# Luego, estas imágenes (defectuosas) se pasan por la red de segmentación para obtener la ubicación y el tipo de defecto.\n",
        "# Vamos a elegir 0.01, para asegurarnos de que omitimos las imágenes para que no pasen por la red de segmentación a menos que\n",
        "# estemos muy seguros de que no tiene ningún defecto y si no estamos seguros, podemos pasar esta imagen a través de la red de segmentación.\n",
        "\n",
        "\n",
        "predict = []\n",
        "\n",
        "for i in test_predict:\n",
        "  if i < 0.01: #0.5\n",
        "    predict.append(0)\n",
        "  else:\n",
        "    predict.append(1)\n",
        "\n",
        "predict = np.asarray(predict)"
      ],
      "execution_count": null,
      "outputs": []
    },
    {
      "cell_type": "code",
      "metadata": {
        "id": "vQFWSO2f5fCS"
      },
      "source": [
        "len(predict)"
      ],
      "execution_count": null,
      "outputs": []
    },
    {
      "cell_type": "code",
      "metadata": {
        "id": "4vtRFZV_5iJ6"
      },
      "source": [
        "# como usamos el generador de prueba, limitó las imágenes a 1936, debido al tamaño del lote\n",
        "\n",
        "original = np.asarray(test.label)[:1936]\n",
        "len(original)"
      ],
      "execution_count": null,
      "outputs": []
    },
    {
      "cell_type": "code",
      "metadata": {
        "id": "AvCW0Lhn5iIg"
      },
      "source": [
        "# Buscamos la accuracy del modelo\n",
        "from sklearn.metrics import accuracy_score\n",
        "\n",
        "accuracy = accuracy_score(original, predict)\n",
        "accuracy"
      ],
      "execution_count": null,
      "outputs": []
    },
    {
      "cell_type": "code",
      "metadata": {
        "id": "hrnla_fW5iE5"
      },
      "source": [
        "# Representamos la matriz de confusión\n",
        "from sklearn.metrics import confusion_matrix\n",
        "\n",
        "cm = confusion_matrix(original, predict)\n",
        "plt.figure(figsize = (7,7))\n",
        "sns.heatmap(cm, annot=True)"
      ],
      "execution_count": null,
      "outputs": []
    },
    {
      "cell_type": "code",
      "metadata": {
        "id": "L5Ai_jO35oJh"
      },
      "source": [
        "# Imprimimos el reporte de clasificación\n",
        "\n",
        "from sklearn.metrics import classification_report\n",
        "\n",
        "report = classification_report(original,predict, labels = [0,1])\n",
        "print(report)"
      ],
      "execution_count": null,
      "outputs": []
    },
    {
      "cell_type": "markdown",
      "metadata": {
        "id": "Y0GmpAjG3GiH"
      },
      "source": [
        "# TAREA #7: ENTENDER LA TEORÍA E INTUICIÓN DETRÁS DE RESUNET (SEGMENTACIÓN)"
      ]
    },
    {
      "cell_type": "markdown",
      "metadata": {
        "id": "0Vi1_uJvu7n7"
      },
      "source": [
        "![alt text](https://drive.google.com/uc?id=11umTaVyb_ArSvhvUk3R4EhL8uDbaRqvD)"
      ]
    },
    {
      "cell_type": "markdown",
      "metadata": {
        "id": "vlZRIwoy1DtF"
      },
      "source": [
        "![alt text](https://drive.google.com/uc?id=12oM_qvqctXXVXzBwjwGFtwTwEYV4AUGD)"
      ]
    },
    {
      "cell_type": "markdown",
      "metadata": {
        "id": "TcsK2k-Ev5sF"
      },
      "source": [
        "![alt text](https://drive.google.com/uc?id=19UPrhTof097bg8O3s4Mq9595bg9sKFpl)"
      ]
    },
    {
      "cell_type": "markdown",
      "metadata": {
        "id": "9RVxzHwcv6Cw"
      },
      "source": [
        "![alt text](https://drive.google.com/uc?id=1QnvjtSGfRROJ68LLK9iBLvqqEZPxU-ZP)"
      ]
    },
    {
      "cell_type": "markdown",
      "metadata": {
        "id": "FKh1zdDx4_RH"
      },
      "source": [
        "# TAREA #8: CONSTRUIR UN MODELO DE SEGMENTACIÓN CON RESUNET"
      ]
    },
    {
      "cell_type": "code",
      "metadata": {
        "id": "ASMCztGD5GXC"
      },
      "source": [
        "# dividir los datos en datos de entrenamiento y de prueba\n",
        "\n",
        "from sklearn.model_selection import train_test_split\n",
        "\n",
        "X_train, X_val = train_test_split(defect_class_mask_df, test_size=0.2)"
      ],
      "execution_count": null,
      "outputs": []
    },
    {
      "cell_type": "code",
      "metadata": {
        "id": "1x--wEew7fUP"
      },
      "source": [
        "# crear una lista separada para imageId, classId y rle para pasar al generador\n",
        "\n",
        "train_ids = list(X_train.ImageId)\n",
        "train_class = list(X_train.ClassId)\n",
        "train_rle = list(X_train.EncodedPixels)\n",
        "\n",
        "val_ids = list(X_val.ImageId)\n",
        "val_class = list(X_val.ClassId)\n",
        "val_rle = list(X_val.EncodedPixels)"
      ],
      "execution_count": null,
      "outputs": []
    },
    {
      "cell_type": "code",
      "metadata": {
        "id": "DHxamV1l7fhs"
      },
      "source": [
        "from utilities import DataGenerator\n",
        "\n",
        "# Crear el generador de imágenes\n",
        "\n",
        "training_generator = DataGenerator(train_ids,train_class, train_rle, train_dir)\n",
        "validation_generator = DataGenerator(val_ids,val_class,val_rle, train_dir)\n"
      ],
      "execution_count": null,
      "outputs": []
    },
    {
      "cell_type": "code",
      "metadata": {
        "id": "86T07x_-7fns"
      },
      "source": [
        "def resblock(X, f):\n",
        "  \n",
        "\n",
        "  # Hacemos una copia de la entrada\n",
        "  X_copy = X\n",
        "\n",
        "  # Path principal\n",
        "  # Puedes leer más aquí: https://medium.com/@prateekvishnu/xavier-and-he-normal-he-et-al-initialization-8e3d7a087528\n",
        "\n",
        "  X = Conv2D(f, kernel_size = (1,1), strides = (1,1), kernel_initializer ='he_normal')(X)\n",
        "  X = BatchNormalization()(X)\n",
        "  X = Activation('relu')(X) \n",
        "\n",
        "  X = Conv2D(f, kernel_size = (3,3), strides =(1,1), padding = 'same', kernel_initializer ='he_normal')(X)\n",
        "  X = BatchNormalization()(X)\n",
        "\n",
        "  # Path corto\n",
        "  # Puedes leer más aquí: https://towardsdatascience.com/understanding-and-coding-a-resnet-in-keras-446d7ff84d33\n",
        "\n",
        "  X_copy = Conv2D(f, kernel_size = (1,1), strides =(1,1), kernel_initializer ='he_normal')(X_copy)\n",
        "  X_copy = BatchNormalization()(X_copy)\n",
        "\n",
        "  # Añadimos el fichero de salida a partir de la combinación de path principal y el corto\n",
        "  \n",
        "  X = Add()([X,X_copy])\n",
        "  X = Activation('relu')(X)\n",
        "\n",
        "  return X"
      ],
      "execution_count": null,
      "outputs": []
    },
    {
      "cell_type": "code",
      "metadata": {
        "id": "VCatuc5N7fck"
      },
      "source": [
        "# Función para upscale y concatenar los valores\n",
        "\n",
        "def upsample_concat(x, skip):\n",
        "  x = UpSampling2D((2,2))(x)\n",
        "  merge = Concatenate()([x, skip])\n",
        "\n",
        "  return merge"
      ],
      "execution_count": null,
      "outputs": []
    },
    {
      "cell_type": "code",
      "metadata": {
        "id": "OjBTBsj67l8s"
      },
      "source": [
        "input_shape = (256,256,1)\n",
        "\n",
        "#Input tensor shape\n",
        "X_input = Input(input_shape)\n",
        "\n",
        "#Stage 1\n",
        "conv1_in = Conv2D(16,3,activation= 'relu', padding = 'same', kernel_initializer ='he_normal')(X_input)\n",
        "conv1_in = BatchNormalization()(conv1_in)\n",
        "conv1_in = Conv2D(16,3,activation= 'relu', padding = 'same', kernel_initializer ='he_normal')(conv1_in)\n",
        "conv1_in = BatchNormalization()(conv1_in)\n",
        "pool_1 = MaxPool2D(pool_size = (2,2))(conv1_in)\n",
        "\n",
        "#Stage 2\n",
        "conv2_in = resblock(pool_1, 32)\n",
        "pool_2 = MaxPool2D(pool_size = (2,2))(conv2_in)\n",
        "\n",
        "#Stage 3\n",
        "conv3_in = resblock(pool_2, 64)\n",
        "pool_3 = MaxPool2D(pool_size = (2,2))(conv3_in)\n",
        "\n",
        "#Stage 4\n",
        "conv4_in = resblock(pool_3, 128)\n",
        "pool_4 = MaxPool2D(pool_size = (2,2))(conv4_in)\n",
        "\n",
        "#Stage 5\n",
        "conv5_in = resblock(pool_4, 256)\n",
        "\n",
        "#Upscale stage 1\n",
        "up_1 = upsample_concat(conv5_in, conv4_in)\n",
        "up_1 = resblock(up_1, 128)\n",
        "\n",
        "#Upscale stage 2\n",
        "up_2 = upsample_concat(up_1, conv3_in)\n",
        "up_2 = resblock(up_2, 64)\n",
        "\n",
        "#Upscale stage 3\n",
        "up_3 = upsample_concat(up_2, conv2_in)\n",
        "up_3 = resblock(up_3, 32)\n",
        "\n",
        "#Upscale stage 4\n",
        "up_4 = upsample_concat(up_3, conv1_in)\n",
        "up_4 = resblock(up_4, 16)\n",
        "\n",
        "#Final Output\n",
        "output = Conv2D(4, (1,1), padding = \"same\", activation = \"sigmoid\")(up_4)\n",
        "\n",
        "model_seg = Model(inputs = X_input, outputs = output )\n"
      ],
      "execution_count": null,
      "outputs": []
    },
    {
      "cell_type": "markdown",
      "metadata": {
        "id": "N-ipz-N_8ftR"
      },
      "source": [
        "## Función de pérdidas:\n",
        " \n",
        "Necesitamos una función de pérdida personalizada para entrenar a este ResUNet: https://github.com/nabsabraham/focal-tversky-unet/blob/master/losses.py\n",
        "\n",
        "\n",
        "@article{focal-unet,\n",
        "  title={A novel Focal Tversky loss function with improved Attention U-Net for lesion segmentation},\n",
        "  author={Abraham, Nabila and Khan, Naimul Mefraz},\n",
        "  journal={arXiv preprint arXiv:1810.07842},\n",
        "  year={2018}\n",
        "}"
      ]
    },
    {
      "cell_type": "code",
      "metadata": {
        "id": "5t8rk_wY7l3O"
      },
      "source": [
        "%cd /content/drive/My Drive/Curso de Data Science para Empresas/6. Maintenance Department\n",
        "\n",
        "from utilities import focal_tversky, tversky_loss, tversky"
      ],
      "execution_count": null,
      "outputs": []
    },
    {
      "cell_type": "code",
      "metadata": {
        "id": "xHrYV3wU8llA"
      },
      "source": [
        "adam = tf.keras.optimizers.Adam(lr = 0.05, epsilon = 0.1)\n",
        "model_seg.compile(optimizer = adam, loss = focal_tversky, metrics = [tversky])"
      ],
      "execution_count": null,
      "outputs": []
    },
    {
      "cell_type": "code",
      "metadata": {
        "id": "ykx7wl658lj4"
      },
      "source": [
        "# usar la parada temprana para salir del entrenamiento si la pérdida de validación no disminuye incluso después de ciertas epochs (patience)\n",
        "earlystopping = EarlyStopping(monitor='val_loss', mode='min', verbose=1, patience=20)\n",
        "\n",
        "# guardar el mejor modelo con menor pérdida de validación\n",
        "checkpointer = ModelCheckpoint(filepath=\"resunet-segmentation-weights.hdf5\", verbose=1, save_best_only=True)"
      ],
      "execution_count": null,
      "outputs": []
    },
    {
      "cell_type": "code",
      "metadata": {
        "id": "A_lmECI58le6"
      },
      "source": [
        "history = model_seg.fit_generator(training_generator, epochs = 40, validation_data= validation_generator, callbacks=[checkpointer, earlystopping])"
      ],
      "execution_count": null,
      "outputs": []
    },
    {
      "cell_type": "code",
      "metadata": {
        "id": "jwz9H_Xi8rCb"
      },
      "source": [
        "# Guardamos el modelo para uso futuro\n",
        "\n",
        "model_json = model_seg.to_json()\n",
        "with open(\"resunet-segmentation-model.json\",\"w\") as json_file:\n",
        "  json_file.write(model_json)"
      ],
      "execution_count": null,
      "outputs": []
    },
    {
      "cell_type": "markdown",
      "metadata": {
        "id": "KCnoC_QY9LNa"
      },
      "source": [
        "# TAREA #9: EVALUAR LA EFICACIA DEL MODELO DE SEGMENTACIÓN ENTRENADO"
      ]
    },
    {
      "cell_type": "code",
      "metadata": {
        "id": "P16wn7yh9jtN"
      },
      "source": [
        "from utilities import focal_tversky, tversky_loss, tversky\n",
        "\n",
        "with open('resunet-segmentation-model.json', 'r') as json_file:\n",
        "    json_savedModel= json_file.read()\n",
        "\n",
        "# Cargar el modelo\n",
        "model_seg = tf.keras.models.model_from_json(json_savedModel)\n",
        "model_seg.load_weights('weights_seg.hdf5')\n",
        "adam = tf.keras.optimizers.Adam(lr = 0.05, epsilon = 0.1)\n",
        "model_seg.compile(optimizer = adam, loss = focal_tversky, metrics = [tversky])"
      ],
      "execution_count": null,
      "outputs": []
    },
    {
      "cell_type": "code",
      "metadata": {
        "id": "-1_9kk6rXMVS"
      },
      "source": [
        "# Datos del conjunto de test para la tarea de segmentación\n",
        "\n",
        "test_df = pd.read_csv('test.csv')\n"
      ],
      "execution_count": null,
      "outputs": []
    },
    {
      "cell_type": "code",
      "metadata": {
        "id": "0TlBCIckXMTZ"
      },
      "source": [
        "test_df"
      ],
      "execution_count": null,
      "outputs": []
    },
    {
      "cell_type": "code",
      "metadata": {
        "id": "dVFRKgBujup0"
      },
      "source": [
        "test_df.ImageId"
      ],
      "execution_count": null,
      "outputs": []
    },
    {
      "cell_type": "code",
      "metadata": {
        "id": "vEICzTHWXMRZ"
      },
      "source": [
        "from utilities import prediction\n",
        "\n",
        "# Hacemos la predicción\n",
        "image_id, defect_type, mask = prediction(test_df, model, model_seg)"
      ],
      "execution_count": null,
      "outputs": []
    },
    {
      "cell_type": "code",
      "metadata": {
        "id": "Q8flvRPFXPdw"
      },
      "source": [
        "# Creamos el dataframe para el resultado\n",
        "df_pred= pd.DataFrame({'ImageId': image_id,'EncodedPixels': mask,'ClassId': defect_type})\n",
        "df_pred.head()"
      ],
      "execution_count": null,
      "outputs": []
    },
    {
      "cell_type": "code",
      "metadata": {
        "id": "HE4c8jZ4XPiQ"
      },
      "source": [
        "# Vamos a mostrar las imágenes junto con sus máscaras originales (ground truth)\n",
        "for i in range(10):\n",
        "\n",
        "  # leer las imágenes usando opencv y convertirlas a formato rgb\n",
        "  img = io.imread(os.path.join(train_dir,test_df.ImageId[i]))\n",
        "  img = cv2.cvtColor(img, cv2.COLOR_BGR2RGB)\n",
        "\n",
        "  # Obtener máscara para la imagen de rle\n",
        "  mask = rle2mask(test_df.EncodedPixels[i],img.shape[0],img.shape[1])\n",
        "\n",
        "  img[mask == 1,1] = 255\n",
        "  plt.figure()\n",
        "  plt.title(test_df.ClassId[i])\n",
        "  plt.imshow(img)"
      ],
      "execution_count": null,
      "outputs": []
    },
    {
      "cell_type": "code",
      "metadata": {
        "id": "3yIWeyObXPnA"
      },
      "source": [
        "# visualizar los resultados (predicciones del modelo)\n",
        "\n",
        "directory = \"train_images\"\n",
        "\n",
        "for i in range(10):\n",
        "\n",
        "  # leer las imágenes usando opencv y convertirlas a formato rgb\n",
        "  img = io.imread(os.path.join(directory,df_pred.ImageId[i]))\n",
        "  img = cv2.cvtColor(img, cv2.COLOR_BGR2RGB)\n",
        "\n",
        "   # Obtener máscara para la imagen de rle\n",
        "  mask = rle2mask(df_pred.EncodedPixels[i],img.shape[0],img.shape[1])\n",
        "  \n",
        "  img[mask == 1,0] = 255\n",
        "  plt.figure()\n",
        "  plt.title(df_pred.ClassId[i])\n",
        "  plt.imshow(img)"
      ],
      "execution_count": null,
      "outputs": []
    },
    {
      "cell_type": "markdown",
      "metadata": {
        "id": "1MvHX6lB9mkw"
      },
      "source": [
        "# BUEN TRABAJO!!"
      ]
    }
  ]
}